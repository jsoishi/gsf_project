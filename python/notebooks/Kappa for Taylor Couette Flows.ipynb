{
 "cells": [
  {
   "cell_type": "markdown",
   "metadata": {},
   "source": [
    "#$\\kappa$ for Couette Flow\n",
    "\n",
    "Couette flow is given by\n",
    "\n",
    "$\\Omega(r) = A + \\frac{B}{r^2}$,\n",
    "\n",
    "with \n",
    "\n",
    "$A = -\\Omega_1 \\eta^2 \\frac{1 - \\mu/\\eta^2}{1-\\eta^2}$\n",
    "\n",
    "$B = \\Omega_1 R_1^2 \\frac{1-\\mu}{1-\\eta^2}$\n",
    "\n",
    "$\\mu \\equiv \\frac{\\Omega_1}{\\Omega_2}$\n",
    "\n",
    "$\\eta \\equiv \\frac{R_1}{R_2}$\n",
    "\n",
    "The epicyclic frequency $\\kappa$ is defined as \n",
    "\n",
    "$\\kappa^2 = \\frac{1}{r^3} \\frac{d (r^2 \\Omega)^2}{dr}$"
   ]
  },
  {
   "cell_type": "code",
   "execution_count": 1,
   "metadata": {
    "collapsed": false
   },
   "outputs": [],
   "source": [
    "%matplotlib inline\n",
    "import matplotlib.pyplot as plt\n",
    "import numpy as np"
   ]
  },
  {
   "cell_type": "code",
   "execution_count": 2,
   "metadata": {
    "collapsed": false
   },
   "outputs": [],
   "source": [
    "def kappa_sq(r,Omega1, mu, eta, R2):\n",
    "    return -4*Omega1**2 * eta**4 *(1-mu)*(1-mu/eta**2)/(1-eta**2)**2 * (R2**2/r**2 - (1-mu/eta**2)/(1-mu))"
   ]
  },
  {
   "cell_type": "code",
   "execution_count": 3,
   "metadata": {
    "collapsed": true
   },
   "outputs": [],
   "source": [
    "R1 = 10.\n",
    "R2 = 11.\n",
    "nr = 1000\n",
    "Omega1 = 1.\n",
    "Omega2 = 0.84\n",
    "mu = Omega2/Omega1\n",
    "eta = R1/R2\n",
    "r = np.linspace(R1,R2,nr,endpoint=False)"
   ]
  },
  {
   "cell_type": "code",
   "execution_count": 4,
   "metadata": {
    "collapsed": false
   },
   "outputs": [],
   "source": [
    "k2 = kappa_sq(r,Omega1,mu,eta,R2)"
   ]
  },
  {
   "cell_type": "code",
   "execution_count": 5,
   "metadata": {
    "collapsed": false
   },
   "outputs": [
    {
     "data": {
      "text/plain": [
       "[<matplotlib.lines.Line2D at 0x7f95e00a2710>]"
      ]
     },
     "execution_count": 5,
     "metadata": {},
     "output_type": "execute_result"
    },
    {
     "data": {
      "image/png": "[encoded data removed]",
      "text/plain": [
       "<matplotlib.figure.Figure at 0x7f95e0138a20>"
      ]
     },
     "metadata": {},
     "output_type": "display_data"
    }
   ],
   "source": [
    "plt.plot(r,k2)"
   ]
  },
  {
   "cell_type": "markdown",
   "metadata": {},
   "source": [
    "The Rayleigh criterion for the stability inviscid differential rotation is $\\kappa^2 > 0$. Of course, Couette flow is viscous, so it's not quite applicable, but it gives a general idea in the limit of low $\\nu$. Here, we sweep through the rotation rate of the *outer* cylinder ($\\Omega_2$) from 0.9 to 0.6."
   ]
  },
  {
   "cell_type": "code",
   "execution_count": 44,
   "metadata": {
    "collapsed": false
   },
   "outputs": [
    {
     "name": "stdout",
     "output_type": "stream",
     "text": [
      "gap width parameter $\\epsilon$ = 0.010101010101010166\n"
     ]
    }
   ],
   "source": [
    "eta = 99/100. #10/11.\n",
    "print(r\"gap width parameter $\\epsilon$ = {}\".format(1/eta - 1.))\n",
    "R1 = eta/(1. - eta)\n",
    "R2 = 1./(1-eta)\n",
    "nr = 1000\n",
    "Omega1 = 1./R1\n",
    "eta = R1/R2\n",
    "r = np.linspace(R1,R2,nr,endpoint=False)\n",
    "\n",
    "Omegas = np.linspace(0.8,0.99,5)*Omega1\n",
    "k2 = []\n",
    "mu = []\n",
    "for Omega2 in Omegas:\n",
    "    mu.append(Omega2/Omega1)\n",
    "    k2.append(kappa_sq(r,Omega1,mu[-1],eta,R2))"
   ]
  },
  {
   "cell_type": "code",
   "execution_count": 50,
   "metadata": {
    "collapsed": false
   },
   "outputs": [
    {
     "data": {
      "text/plain": [
       "<matplotlib.legend.Legend at 0x7f95dae0a588>"
      ]
     },
     "execution_count": 50,
     "metadata": {},
     "output_type": "execute_result"
    },
    {
     "data": {
      "image/png": "[encoded data removed]",
      "text/plain": [
       "<matplotlib.figure.Figure at 0x7f95db0bf1d0>"
      ]
     },
     "metadata": {},
     "output_type": "display_data"
    }
   ],
   "source": [
    "for i,k in enumerate(k2):\n",
    "    plt.plot(r,k/Omega1**2,label=r'$\\mu = {:5.3f}$'.format(mu[i]),linewidth=2)\n",
    "\n",
    "plt.axhline(0,color='k',linestyle=':')\n",
    "plt.xlabel(\"$r$\",size=20)\n",
    "plt.ylabel(r\"$\\kappa^2$\",size=20)\n",
    "plt.legend(loc='lower right')"
   ]
  },
  {
   "cell_type": "markdown",
   "metadata": {},
   "source": [
    "looks like $\\mu = 0.9425$ is a gives "
   ]
  },
  {
   "cell_type": "code",
   "execution_count": 47,
   "metadata": {
    "collapsed": false
   },
   "outputs": [
    {
     "data": {
      "text/plain": [
       "<matplotlib.text.Text at 0x7f95db040048>"
      ]
     },
     "execution_count": 47,
     "metadata": {},
     "output_type": "execute_result"
    },
    {
     "data": {
      "image/png": "[encoded data removed]",
      "text/plain": [
       "<matplotlib.figure.Figure at 0x7f95db3b9208>"
      ]
     },
     "metadata": {},
     "output_type": "display_data"
    }
   ],
   "source": [
    "ks = kappa_sq(r,Omega1,0.9425,eta,R2)\n",
    "plt.plot(r,ks/Omega1**2)\n",
    "\n",
    "#plt.axvline(10.5,color='k',linestyle=':')\n",
    "#plt.axhline(-3,color='k',linestyle=':')\n",
    "\n",
    "plt.xlabel(\"$r$\",size=20)\n",
    "plt.ylabel(r\"$\\kappa^2$\",size=20)"
   ]
  },
  {
   "cell_type": "code",
   "execution_count": 42,
   "metadata": {
    "collapsed": false
   },
   "outputs": [
    {
     "name": "stdout",
     "output_type": "stream",
     "text": [
      "total change in $\\kappa^2$ over domain: -0.05744336020568024\n",
      "$\\kappa^2 at midpoint of domain: -7.339299246388744\n"
     ]
    }
   ],
   "source": [
    "print(\"total change in $\\kappa^2$ over domain: {}\".format((ks[-1]-ks[0])/ks[0]))\n",
    "print(\"$\\kappa^2 at midpoint of domain: {}\".format(ks[nr/2-1]))"
   ]
  },
  {
   "cell_type": "code",
   "execution_count": null,
   "metadata": {
    "collapsed": true
   },
   "outputs": [],
   "source": []
  }
 ],
 "metadata": {
  "kernelspec": {
   "display_name": "Python 3",
   "language": "python",
   "name": "python3"
  },
  "language_info": {
   "codemirror_mode": {
    "name": "ipython",
    "version": 3
   },
   "file_extension": ".py",
   "mimetype": "text/x-python",
   "name": "python",
   "nbconvert_exporter": "python",
   "pygments_lexer": "ipython3",
   "version": "3.4.1"
  }
 },
 "nbformat": 4,
 "nbformat_minor": 0
}
