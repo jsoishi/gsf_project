{
 "cells": [
  {
   "cell_type": "markdown",
   "metadata": {},
   "source": [
    "# Noise, Derivatives, and Initial Conditions\n",
    "The derivatives of gaussian white noise are always large because of grid-scale fluctuations. \n",
    "\n",
    "It's actually much worse than this: Chebyshev directions ($y$ in this example) are dominated by errors at the boundaries, even if the noise is masked with $\\sin(y)$."
   ]
  },
  {
   "cell_type": "code",
   "execution_count": 15,
   "metadata": {
    "collapsed": false
   },
   "outputs": [],
   "source": [
    "%matplotlib inline\n",
    "\n",
    "import matplotlib\n",
    "import numpy as np\n",
    "import matplotlib.pyplot as plt\n",
    "import dedalus.public as de"
   ]
  },
  {
   "cell_type": "code",
   "execution_count": 46,
   "metadata": {
    "collapsed": false
   },
   "outputs": [
    {
     "name": "stderr",
     "output_type": "stream",
     "text": [
      "DEBUG:domain:Global coeff shape: [16 32]\n",
      "DEBUG:distributor:Mesh: []\n"
     ]
    }
   ],
   "source": [
    "xbasis = de.Fourier('x',32)\n",
    "ybasis = de.Chebyshev('y',32,interval=[0,1])\n",
    "\n",
    "dom = de.Domain([xbasis,ybasis],grid_dtype=np.float64)"
   ]
  },
  {
   "cell_type": "code",
   "execution_count": 47,
   "metadata": {
    "collapsed": false
   },
   "outputs": [],
   "source": [
    "phi = dom.new_field(name='phi')\n",
    "phi_dx = dom.new_field(name='phi_x')\n",
    "phi_dy = dom.new_field(name='phi_y')"
   ]
  },
  {
   "cell_type": "code",
   "execution_count": 48,
   "metadata": {
    "collapsed": false
   },
   "outputs": [
    {
     "name": "stdout",
     "output_type": "stream",
     "text": [
      "[[  6.02271897e-04   5.41174502e-03   1.49843734e-02   2.92279674e-02\n",
      "    4.80053534e-02   7.11356950e-02   9.83962343e-02   1.29524437e-01\n",
      "    1.64220523e-01   2.02150348e-01   2.42948628e-01   2.86222453e-01\n",
      "    3.31555073e-01   3.78509910e-01   4.26634763e-01   4.75466163e-01\n",
      "    5.24533837e-01   5.73365237e-01   6.21490090e-01   6.68444927e-01\n",
      "    7.13777547e-01   7.57051372e-01   7.97849652e-01   8.35779477e-01\n",
      "    8.70475563e-01   9.01603766e-01   9.28864305e-01   9.51994647e-01\n",
      "    9.70772033e-01   9.85015627e-01   9.94588255e-01   9.99397728e-01]]\n"
     ]
    }
   ],
   "source": [
    "y = dom.grid(1)\n",
    "print(y)"
   ]
  },
  {
   "cell_type": "markdown",
   "metadata": {},
   "source": [
    "Here, we create some noise data in $\\phi$, then mask it with $\\sin(y)$, then take the $x$ and $y$ derivatives. "
   ]
  },
  {
   "cell_type": "code",
   "execution_count": 52,
   "metadata": {
    "collapsed": false
   },
   "outputs": [
    {
     "data": {
      "text/plain": [
       "<Field 140336849462776>"
      ]
     },
     "execution_count": 52,
     "metadata": {},
     "output_type": "execute_result"
    }
   ],
   "source": [
    "phi['g'] = np.random.standard_normal((32,32))*np.sin(np.pi*y)\n",
    "phi.differentiate('x',out=phi_dx)\n",
    "phi.differentiate('y',out=phi_dy)"
   ]
  },
  {
   "cell_type": "code",
   "execution_count": 53,
   "metadata": {
    "collapsed": false
   },
   "outputs": [
    {
     "data": {
      "text/plain": [
       "array([[  2.45629418e-03,  -2.82519221e-02,   3.50131796e-02, ...,\n",
       "          2.23437650e-02,   1.50461788e-02,   1.02595530e-03],\n",
       "       [  2.54369665e-03,   2.19363433e-02,   3.30326815e-02, ...,\n",
       "         -1.54609069e-02,   1.18504239e-03,   6.56762168e-05],\n",
       "       [  9.33192047e-05,   3.90219644e-03,  -6.98280753e-02, ...,\n",
       "          6.15978912e-03,   7.40902413e-04,   9.43074598e-04],\n",
       "       ..., \n",
       "       [  2.58124088e-04,   2.12809779e-02,  -6.85869682e-02, ...,\n",
       "          1.48569623e-02,  -2.73317583e-02,   6.63668255e-04],\n",
       "       [  1.37077680e-03,   3.84934894e-04,  -2.57297554e-02, ...,\n",
       "         -3.87820886e-02,  -1.01238502e-02,   4.70967852e-03],\n",
       "       [  2.07493038e-03,  -1.26224423e-02,  -3.96979530e-03, ...,\n",
       "         -5.80094488e-02,  -3.24033714e-02,   7.19244872e-04]])"
      ]
     },
     "execution_count": 53,
     "metadata": {},
     "output_type": "execute_result"
    }
   ],
   "source": [
    "phi['g']"
   ]
  },
  {
   "cell_type": "markdown",
   "metadata": {},
   "source": [
    "Here's the gaussian noise itself"
   ]
  },
  {
   "cell_type": "code",
   "execution_count": 54,
   "metadata": {
    "collapsed": false
   },
   "outputs": [
    {
     "data": {
      "text/plain": [
       "<matplotlib.colorbar.Colorbar at 0x7fa299db73c8>"
      ]
     },
     "execution_count": 54,
     "metadata": {},
     "output_type": "execute_result"
    },
    {
     "data": {
      "image/png": "[encoded data removed]",
      "text/plain": [
       "<matplotlib.figure.Figure at 0x7fa299fc8320>"
      ]
     },
     "metadata": {},
     "output_type": "display_data"
    }
   ],
   "source": [
    "plt.imshow(phi['g'],cmap='PuOr',interpolation=\"None\")\n",
    "plt.colorbar()"
   ]
  },
  {
   "cell_type": "markdown",
   "metadata": {},
   "source": [
    "Here's the $x$ derivative, a factor of $\\sim 8$ higher than the noise for this particular draw."
   ]
  },
  {
   "cell_type": "code",
   "execution_count": 55,
   "metadata": {
    "collapsed": false
   },
   "outputs": [
    {
     "data": {
      "text/plain": [
       "<matplotlib.colorbar.Colorbar at 0x7fa299ce79b0>"
      ]
     },
     "execution_count": 55,
     "metadata": {},
     "output_type": "execute_result"
    },
    {
     "data": {
      "image/png": "[encoded data removed]",
      "text/plain": [
       "<matplotlib.figure.Figure at 0x7fa299f132e8>"
      ]
     },
     "metadata": {},
     "output_type": "display_data"
    }
   ],
   "source": [
    "plt.imshow(phi_dx['g'],cmap='PuOr',interpolation=\"None\")\n",
    "plt.colorbar()"
   ]
  },
  {
   "cell_type": "markdown",
   "metadata": {},
   "source": [
    "Here's the $y$ derivative, more than two orders of magnitude larger, all at the boundaries."
   ]
  },
  {
   "cell_type": "code",
   "execution_count": 56,
   "metadata": {
    "collapsed": false
   },
   "outputs": [
    {
     "data": {
      "text/plain": [
       "<matplotlib.colorbar.Colorbar at 0x7fa299c97b38>"
      ]
     },
     "execution_count": 56,
     "metadata": {},
     "output_type": "execute_result"
    },
    {
     "data": {
      "image/png": "[encoded data removed]",
      "text/plain": [
       "<matplotlib.figure.Figure at 0x7fa299e01048>"
      ]
     },
     "metadata": {},
     "output_type": "display_data"
    }
   ],
   "source": [
    "plt.imshow(phi_dy['g'],cmap='PuOr',interpolation=\"None\")\n",
    "plt.colorbar()"
   ]
  },
  {
   "cell_type": "code",
   "execution_count": null,
   "metadata": {
    "collapsed": true
   },
   "outputs": [],
   "source": []
  }
 ],
 "metadata": {
  "kernelspec": {
   "display_name": "Python 3",
   "language": "python",
   "name": "python3"
  },
  "language_info": {
   "codemirror_mode": {
    "name": "ipython",
    "version": 3
   },
   "file_extension": ".py",
   "mimetype": "text/x-python",
   "name": "python",
   "nbconvert_exporter": "python",
   "pygments_lexer": "ipython3",
   "version": "3.4.1"
  }
 },
 "nbformat": 4,
 "nbformat_minor": 0
}
